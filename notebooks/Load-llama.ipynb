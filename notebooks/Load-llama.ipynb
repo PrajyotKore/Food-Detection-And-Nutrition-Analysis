{
 "cells": [
  {
   "cell_type": "code",
   "execution_count": 1,
   "metadata": {},
   "outputs": [
    {
     "name": "stderr",
     "output_type": "stream",
     "text": [
      "c:\\Users\\Asus\\AppData\\Local\\Programs\\Python\\Python310\\lib\\site-packages\\tqdm\\auto.py:21: TqdmWarning: IProgress not found. Please update jupyter and ipywidgets. See https://ipywidgets.readthedocs.io/en/stable/user_install.html\n",
      "  from .autonotebook import tqdm as notebook_tqdm\n",
      "Device set to use cuda:0\n",
      "Setting `pad_token_id` to `eos_token_id`:128001 for open-end generation.\n"
     ]
    },
    {
     "name": "stdout",
     "output_type": "stream",
     "text": [
      "Result: What is nutritional value of eggs, and key benefits?\n",
      "Eggs are a rich source of protein and are a good source of fat and cholesterol. They are also a good source of vitamins and minerals.\n",
      "Eggs are a good source of protein, and they are also a good source of fat and cholesterol. They are also a good source of vitamins and minerals. Eggs are a good source of protein, and they are also a good source of fat and cholesterol. They are also a good source of vitamins and minerals. Eggs are a good source of protein, and they are also a good source of fat and cholesterol. They are also a good source of vitamins and minerals. Eggs are a good source of protein, and they are also a good source of fat and cholesterol. They are also a good source of vitamins and minerals.\n",
      "Eggs are a good source of protein and are a good source of fat and cholesterol. They are also a good source of vitamins and minerals.\n",
      "Eg\n"
     ]
    }
   ],
   "source": [
    "import torch\n",
    "import transformers\n",
    "from transformers import AutoTokenizer\n",
    "\n",
    "model_id = \"meta-llama/Llama-3.2-1B\"\n",
    "tokenizer = AutoTokenizer.from_pretrained(model_id)\n",
    "pipeline = transformers.pipeline(\n",
    "    \"text-generation\",\n",
    "    model = model_id,\n",
    "    torch_dtype= torch.float16,\n",
    "    device_map = \"auto\"\n",
    "    )\n",
    "sequences = pipeline(\n",
    "    'What is nutritional value of eggs, and key benefits',\n",
    "    do_sample = True,\n",
    "    top_k = 4,\n",
    "    num_return_sequences = 1,\n",
    "    eos_token_id = tokenizer.eos_token_id,\n",
    "    truncation = True,\n",
    "    max_length = 200,\n",
    ")\n",
    "\n",
    "for seq in sequences:\n",
    "    print(f\"Result: {seq['generated_text']}\")"
   ]
  },
  {
   "cell_type": "code",
   "execution_count": null,
   "metadata": {},
   "outputs": [],
   "source": [
    "# !pip3 install torch torchvision torchaudio"
   ]
  },
  {
   "cell_type": "code",
   "execution_count": null,
   "metadata": {},
   "outputs": [],
   "source": [
    "# huggingface-cli download meta-llama/Llama-3.2-1B --include \"original/*\" --local-dir Llama-3.2-1B\n"
   ]
  },
  {
   "cell_type": "code",
   "execution_count": null,
   "metadata": {},
   "outputs": [],
   "source": []
  }
 ],
 "metadata": {
  "kernelspec": {
   "display_name": "Python 3",
   "language": "python",
   "name": "python3"
  },
  "language_info": {
   "codemirror_mode": {
    "name": "ipython",
    "version": 3
   },
   "file_extension": ".py",
   "mimetype": "text/x-python",
   "name": "python",
   "nbconvert_exporter": "python",
   "pygments_lexer": "ipython3",
   "version": "3.10.0"
  }
 },
 "nbformat": 4,
 "nbformat_minor": 2
}
