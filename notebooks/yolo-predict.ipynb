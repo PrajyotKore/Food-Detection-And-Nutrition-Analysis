{
 "cells": [
  {
   "cell_type": "code",
   "execution_count": null,
   "metadata": {},
   "outputs": [],
   "source": []
  },
  {
   "cell_type": "code",
   "execution_count": null,
   "metadata": {},
   "outputs": [],
   "source": []
  },
  {
   "cell_type": "code",
   "execution_count": 2,
   "metadata": {},
   "outputs": [
    {
     "name": "stderr",
     "output_type": "stream",
     "text": [
      "\n",
      "A module that was compiled using NumPy 1.x cannot be run in\n",
      "NumPy 2.2.1 as it may crash. To support both 1.x and 2.x\n",
      "versions of NumPy, modules must be compiled with NumPy 2.0.\n",
      "Some module may need to rebuild instead e.g. with 'pybind11>=2.12'.\n",
      "\n",
      "If you are a user of the module, the easiest solution will be to\n",
      "downgrade to 'numpy<2' or try to upgrade the affected module.\n",
      "We expect that some modules will need time to support NumPy 2.\n",
      "\n",
      "Traceback (most recent call last):  File \"h:\\FOOD-DETECTION\\food-detection-and-nutritional-value\\.conda\\lib\\runpy.py\", line 196, in _run_module_as_main\n",
      "    return _run_code(code, main_globals, None,\n",
      "  File \"h:\\FOOD-DETECTION\\food-detection-and-nutritional-value\\.conda\\lib\\runpy.py\", line 86, in _run_code\n",
      "    exec(code, run_globals)\n",
      "  File \"h:\\FOOD-DETECTION\\food-detection-and-nutritional-value\\.conda\\lib\\site-packages\\ipykernel_launcher.py\", line 18, in <module>\n",
      "    app.launch_new_instance()\n",
      "  File \"h:\\FOOD-DETECTION\\food-detection-and-nutritional-value\\.conda\\lib\\site-packages\\traitlets\\config\\application.py\", line 1075, in launch_instance\n",
      "    app.start()\n",
      "  File \"h:\\FOOD-DETECTION\\food-detection-and-nutritional-value\\.conda\\lib\\site-packages\\ipykernel\\kernelapp.py\", line 739, in start\n",
      "    self.io_loop.start()\n",
      "  File \"h:\\FOOD-DETECTION\\food-detection-and-nutritional-value\\.conda\\lib\\site-packages\\tornado\\platform\\asyncio.py\", line 205, in start\n",
      "    self.asyncio_loop.run_forever()\n",
      "  File \"h:\\FOOD-DETECTION\\food-detection-and-nutritional-value\\.conda\\lib\\asyncio\\base_events.py\", line 603, in run_forever\n",
      "    self._run_once()\n",
      "  File \"h:\\FOOD-DETECTION\\food-detection-and-nutritional-value\\.conda\\lib\\asyncio\\base_events.py\", line 1909, in _run_once\n",
      "    handle._run()\n",
      "  File \"h:\\FOOD-DETECTION\\food-detection-and-nutritional-value\\.conda\\lib\\asyncio\\events.py\", line 80, in _run\n",
      "    self._context.run(self._callback, *self._args)\n",
      "  File \"h:\\FOOD-DETECTION\\food-detection-and-nutritional-value\\.conda\\lib\\site-packages\\ipykernel\\kernelbase.py\", line 545, in dispatch_queue\n",
      "    await self.process_one()\n",
      "  File \"h:\\FOOD-DETECTION\\food-detection-and-nutritional-value\\.conda\\lib\\site-packages\\ipykernel\\kernelbase.py\", line 534, in process_one\n",
      "    await dispatch(*args)\n",
      "  File \"h:\\FOOD-DETECTION\\food-detection-and-nutritional-value\\.conda\\lib\\site-packages\\ipykernel\\kernelbase.py\", line 437, in dispatch_shell\n",
      "    await result\n",
      "  File \"h:\\FOOD-DETECTION\\food-detection-and-nutritional-value\\.conda\\lib\\site-packages\\ipykernel\\ipkernel.py\", line 362, in execute_request\n",
      "    await super().execute_request(stream, ident, parent)\n",
      "  File \"h:\\FOOD-DETECTION\\food-detection-and-nutritional-value\\.conda\\lib\\site-packages\\ipykernel\\kernelbase.py\", line 778, in execute_request\n",
      "    reply_content = await reply_content\n",
      "  File \"h:\\FOOD-DETECTION\\food-detection-and-nutritional-value\\.conda\\lib\\site-packages\\ipykernel\\ipkernel.py\", line 449, in do_execute\n",
      "    res = shell.run_cell(\n",
      "  File \"h:\\FOOD-DETECTION\\food-detection-and-nutritional-value\\.conda\\lib\\site-packages\\ipykernel\\zmqshell.py\", line 549, in run_cell\n",
      "    return super().run_cell(*args, **kwargs)\n",
      "  File \"h:\\FOOD-DETECTION\\food-detection-and-nutritional-value\\.conda\\lib\\site-packages\\IPython\\core\\interactiveshell.py\", line 3075, in run_cell\n",
      "    result = self._run_cell(\n",
      "  File \"h:\\FOOD-DETECTION\\food-detection-and-nutritional-value\\.conda\\lib\\site-packages\\IPython\\core\\interactiveshell.py\", line 3130, in _run_cell\n",
      "    result = runner(coro)\n",
      "  File \"h:\\FOOD-DETECTION\\food-detection-and-nutritional-value\\.conda\\lib\\site-packages\\IPython\\core\\async_helpers.py\", line 128, in _pseudo_sync_runner\n",
      "    coro.send(None)\n",
      "  File \"h:\\FOOD-DETECTION\\food-detection-and-nutritional-value\\.conda\\lib\\site-packages\\IPython\\core\\interactiveshell.py\", line 3334, in run_cell_async\n",
      "    has_raised = await self.run_ast_nodes(code_ast.body, cell_name,\n",
      "  File \"h:\\FOOD-DETECTION\\food-detection-and-nutritional-value\\.conda\\lib\\site-packages\\IPython\\core\\interactiveshell.py\", line 3517, in run_ast_nodes\n",
      "    if await self.run_code(code, result, async_=asy):\n",
      "  File \"h:\\FOOD-DETECTION\\food-detection-and-nutritional-value\\.conda\\lib\\site-packages\\IPython\\core\\interactiveshell.py\", line 3577, in run_code\n",
      "    exec(code_obj, self.user_global_ns, self.user_ns)\n",
      "  File \"C:\\Users\\pakor\\AppData\\Local\\Temp\\ipykernel_8384\\3605475621.py\", line 2, in <module>\n",
      "    import ultralytics\n",
      "  File \"h:\\FOOD-DETECTION\\food-detection-and-nutritional-value\\.conda\\lib\\site-packages\\ultralytics\\__init__.py\", line 11, in <module>\n",
      "    from ultralytics.models import NAS, RTDETR, SAM, YOLO, FastSAM, YOLOWorld\n",
      "  File \"h:\\FOOD-DETECTION\\food-detection-and-nutritional-value\\.conda\\lib\\site-packages\\ultralytics\\models\\__init__.py\", line 3, in <module>\n",
      "    from .fastsam import FastSAM\n",
      "  File \"h:\\FOOD-DETECTION\\food-detection-and-nutritional-value\\.conda\\lib\\site-packages\\ultralytics\\models\\fastsam\\__init__.py\", line 3, in <module>\n",
      "    from .model import FastSAM\n",
      "  File \"h:\\FOOD-DETECTION\\food-detection-and-nutritional-value\\.conda\\lib\\site-packages\\ultralytics\\models\\fastsam\\model.py\", line 5, in <module>\n",
      "    from ultralytics.engine.model import Model\n",
      "  File \"h:\\FOOD-DETECTION\\food-detection-and-nutritional-value\\.conda\\lib\\site-packages\\ultralytics\\engine\\model.py\", line 12, in <module>\n",
      "    from ultralytics.engine.results import Results\n",
      "  File \"h:\\FOOD-DETECTION\\food-detection-and-nutritional-value\\.conda\\lib\\site-packages\\ultralytics\\engine\\results.py\", line 15, in <module>\n",
      "    from ultralytics.data.augment import LetterBox\n",
      "  File \"h:\\FOOD-DETECTION\\food-detection-and-nutritional-value\\.conda\\lib\\site-packages\\ultralytics\\data\\__init__.py\", line 3, in <module>\n",
      "    from .base import BaseDataset\n",
      "  File \"h:\\FOOD-DETECTION\\food-detection-and-nutritional-value\\.conda\\lib\\site-packages\\ultralytics\\data\\base.py\", line 17, in <module>\n",
      "    from ultralytics.data.utils import FORMATS_HELP_MSG, HELP_URL, IMG_FORMATS\n",
      "  File \"h:\\FOOD-DETECTION\\food-detection-and-nutritional-value\\.conda\\lib\\site-packages\\ultralytics\\data\\utils.py\", line 18, in <module>\n",
      "    from ultralytics.nn.autobackend import check_class_names\n",
      "  File \"h:\\FOOD-DETECTION\\food-detection-and-nutritional-value\\.conda\\lib\\site-packages\\ultralytics\\nn\\__init__.py\", line 3, in <module>\n",
      "    from .tasks import (\n",
      "  File \"h:\\FOOD-DETECTION\\food-detection-and-nutritional-value\\.conda\\lib\\site-packages\\ultralytics\\nn\\tasks.py\", line 13, in <module>\n",
      "    from ultralytics.nn.modules import (\n",
      "  File \"h:\\FOOD-DETECTION\\food-detection-and-nutritional-value\\.conda\\lib\\site-packages\\ultralytics\\nn\\modules\\__init__.py\", line 75, in <module>\n",
      "    from .head import OBB, Classify, Detect, Pose, RTDETRDecoder, Segment, WorldDetect, v10Detect\n",
      "  File \"h:\\FOOD-DETECTION\\food-detection-and-nutritional-value\\.conda\\lib\\site-packages\\ultralytics\\nn\\modules\\head.py\", line 21, in <module>\n",
      "    class Detect(nn.Module):\n",
      "  File \"h:\\FOOD-DETECTION\\food-detection-and-nutritional-value\\.conda\\lib\\site-packages\\ultralytics\\nn\\modules\\head.py\", line 30, in Detect\n",
      "    anchors = torch.empty(0)  # init\n",
      "h:\\FOOD-DETECTION\\food-detection-and-nutritional-value\\.conda\\lib\\site-packages\\ultralytics\\nn\\modules\\head.py:30: UserWarning: Failed to initialize NumPy: _ARRAY_API not found (Triggered internally at ..\\torch\\csrc\\utils\\tensor_numpy.cpp:84.)\n",
      "  anchors = torch.empty(0)  # init\n"
     ]
    }
   ],
   "source": [
    "import pandas as pd \n",
    "import ultralytics \n",
    "from ultralytics import YOLO"
   ]
  },
  {
   "cell_type": "code",
   "execution_count": null,
   "metadata": {},
   "outputs": [],
   "source": [
    "model_path = \"C:\\Users\\pakor\\Downloads\\yolo11l.pt\""
   ]
  }
 ],
 "metadata": {
  "kernelspec": {
   "display_name": "Python 3",
   "language": "python",
   "name": "python3"
  },
  "language_info": {
   "codemirror_mode": {
    "name": "ipython",
    "version": 3
   },
   "file_extension": ".py",
   "mimetype": "text/x-python",
   "name": "python",
   "nbconvert_exporter": "python",
   "pygments_lexer": "ipython3",
   "version": "3.10.16"
  }
 },
 "nbformat": 4,
 "nbformat_minor": 2
}
